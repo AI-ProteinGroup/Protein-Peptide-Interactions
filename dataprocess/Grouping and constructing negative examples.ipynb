{
 "cells": [
  {
   "cell_type": "markdown",
   "metadata": {},
   "source": [
    "# A cluster of fasta and MMSeq2 output tsv files with protein pockets is required"
   ]
  },
  {
   "cell_type": "code",
   "execution_count": 3,
   "metadata": {},
   "outputs": [],
   "source": [
    "import os\n",
    "import numpy as np\n",
    "import pandas as pd"
   ]
  },
  {
   "cell_type": "code",
   "execution_count": 4,
   "metadata": {},
   "outputs": [],
   "source": [
    "\n",
    "\n",
    "pro_file='./pocket/id5_c6_10_50.tsv'\n",
    "seq_file = '../pocket6A_seq10_50.fasta'\n",
    "seq_dict =[]\n",
    "with open(seq_file) as f:\n",
    "    lines= f.readline()\n",
    "    line_1 = lines.strip()\n",
    "\n",
    "    lines= f.readline()\n",
    "    line_2 = lines.strip()\n",
    "    while lines:\n",
    "        seq_dict.append(line_1[1:])\n",
    "        lines= f.readline()\n",
    "        line_1 = lines.strip()\n",
    "        lines= f.readline()\n",
    "        line_2 = lines.strip()\n",
    "\n",
    "pro_dict ={}\n",
    "with open(pro_file) as f:\n",
    "    lines= f.readline()\n",
    "    line_1 = lines.strip()\n",
    "    lines= f.readline()\n",
    "    line_2 = lines.strip()\n",
    "    while lines:\n",
    "        \n",
    "        pro_dict[line_2]=line_1\n",
    "        lines= f.readline()\n",
    "        line_1 = lines.strip()\n",
    "        lines= f.readline()\n",
    "        line_2 = lines.strip()"
   ]
  },
  {
   "cell_type": "code",
   "execution_count": 5,
   "metadata": {},
   "outputs": [],
   "source": [
    "def  number_number(pro_dict,pocket_value):\n",
    "    number = []\n",
    "    for key,value in pro_dict.items():\n",
    "        if value == pocket_value:\n",
    "            number.append(key)\n",
    "    number = list(set(number)) \n",
    "    return number,len(number)"
   ]
  },
  {
   "cell_type": "code",
   "execution_count": 6,
   "metadata": {},
   "outputs": [],
   "source": [
    "search_kongjian = []\n",
    "for i in pro_dict.values():\n",
    "    search_kongjian.append(i)\n",
    "ready_kongjian = []"
   ]
  },
  {
   "cell_type": "code",
   "execution_count": 7,
   "metadata": {},
   "outputs": [],
   "source": [
    "all_data_name = []\n",
    "for test_1 in search_kongjian:\n",
    "    if test_1 not in ready_kongjian:\n",
    "        one_clus = {}\n",
    "        pocket_value = pro_dict[test_1]\n",
    "        \n",
    "        one_clus['label_name'] = test_1\n",
    "        one_clus['all_member'],one_clus['number'] = number_number(pro_dict,pocket_value)\n",
    "        all_data_name.append(one_clus)\n",
    "        ready_kongjian.extend(one_clus['all_member'])\n",
    "np.save('./pocketonly_clu_name_c6.npy',all_data_name)"
   ]
  },
  {
   "cell_type": "markdown",
   "metadata": {},
   "source": [
    "# Group by cluster"
   ]
  },
  {
   "cell_type": "code",
   "execution_count": 8,
   "metadata": {},
   "outputs": [],
   "source": [
    "import random\n",
    "all_name = np.load('./pocketonly_clu_name_c6.npy',allow_pickle=True)#9147"
   ]
  },
  {
   "cell_type": "code",
   "execution_count": 9,
   "metadata": {},
   "outputs": [
    {
     "name": "stdout",
     "output_type": "stream",
     "text": [
      "2935\n"
     ]
    }
   ],
   "source": [
    "label_number = {}\n",
    "ori_label = []\n",
    "for item in all_name:\n",
    "    label_number[item['label_name']] =item['number']\n",
    "    ori_label.append(item['label_name'])\n",
    "label=ori_label.copy()\n",
    "\n",
    "print(len(label_number))    "
   ]
  },
  {
   "cell_type": "code",
   "execution_count": 10,
   "metadata": {},
   "outputs": [
    {
     "name": "stdout",
     "output_type": "stream",
     "text": [
      "2y65_Y_A.txt\n",
      "1800\n",
      "3nfk_C_A.txt\n",
      "1808\n",
      "4gq6_B_A.txt\n",
      "1803\n",
      "2k6q_B_A.txt\n",
      "1802\n",
      "1q94_C_A.txt\n",
      "1814\n"
     ]
    }
   ],
   "source": [
    "label=ori_label.copy()\n",
    "#分成5组，一组1800左右\n",
    "class_data = []\n",
    "for class_number in range(5):\n",
    "    now_number=0\n",
    "    ready_label = []\n",
    "    while True:\n",
    "        \n",
    "        if now_number>=1800 or len(label)==0:\n",
    "            print(now_label)\n",
    "            print(now_number)\n",
    "            break\n",
    "        random.shuffle(label)\n",
    "        now_label = label[0]\n",
    "        now_number+=label_number[now_label]\n",
    "        ready_label.append(now_label)\n",
    "        label = label[1:]\n",
    "    class_data.append(ready_label)"
   ]
  },
  {
   "cell_type": "code",
   "execution_count": 12,
   "metadata": {},
   "outputs": [],
   "source": [
    "np.save('./pocketonly_class_name_c6.npy',class_data)"
   ]
  },
  {
   "cell_type": "code",
   "execution_count": 13,
   "metadata": {},
   "outputs": [],
   "source": [
    "#保存为长度是5的list，[[a,b,c],[d,e,f]]\n",
    "class_label = np.load('./pocketonly_class_name_c6.npy',allow_pickle=True)\n",
    "all_name = np.load('./pocketonly_clu_name_c6.npy',allow_pickle=True)#9147\n",
    "label_member ={}\n",
    "for item in all_name:\n",
    "    label_member[item['label_name']] = item['all_member']\n",
    "    #print(item['all_member'])\n",
    "class_data = []\n",
    "for value in class_label:\n",
    "    one_class_data = []\n",
    "    for name in value:\n",
    "        one_class_data.extend(label_member[name])\n",
    "    class_data.append(one_class_data)\n",
    "np.save('./pocketonly_classed_five_c6.npy',class_data)"
   ]
  },
  {
   "cell_type": "markdown",
   "metadata": {},
   "source": [
    "# Structural negative example"
   ]
  },
  {
   "cell_type": "code",
   "execution_count": 14,
   "metadata": {},
   "outputs": [],
   "source": [
    "import os\n",
    "import numpy as np\n",
    "import pandas as pd\n",
    "import random"
   ]
  },
  {
   "cell_type": "code",
   "execution_count": 15,
   "metadata": {},
   "outputs": [],
   "source": [
    "all_name = np.load('./clu_name_c6.npy',allow_pickle=True)#9147\n",
    "label_member ={}\n",
    "for item in all_name:\n",
    "    label_member[item['label_name']] = item['all_member']\n",
    "all_class = np.load('./pocketonly_classed_five_c6.npy',allow_pickle=True)"
   ]
  },
  {
   "cell_type": "code",
   "execution_count": 16,
   "metadata": {},
   "outputs": [],
   "source": [
    "five_class_neg = []#完美\n",
    "number = 0\n",
    "for one_class in all_class:#5组\n",
    "    random_name = one_class.copy()\n",
    "    random_2 = one_class.copy()\n",
    "    one_class_neg = {}\n",
    "    for one_name in one_class:#每个找到key\n",
    "        for key,value in label_member.items():\n",
    "            if one_name in value:\n",
    "                now_label_name = key\n",
    "        cycle_count = 0\n",
    "        flag = False\n",
    "        while True:#随机一个负例\n",
    "            cycle_count += 1\n",
    "            if cycle_count > 500:#实在找不到了\n",
    "                while True:#随机一个负例\n",
    "                    random.shuffle(random_2)\n",
    "                    now_neg = random_2[0]\n",
    "                    if now_neg not in label_member[now_label_name]:#多肽，蛋白都不在同一个组里\n",
    "                        one_class_neg[one_name] = now_neg\n",
    "                        flag = True\n",
    "                        break\n",
    "            if flag:\n",
    "                break\n",
    "            random.shuffle(random_name)\n",
    "            now_neg = random_name[0]\n",
    "            if now_neg not in label_member[now_label_name]:#多肽，蛋白都不在同一个组里\n",
    "                one_class_neg[one_name] = now_neg\n",
    "                random_name=random_name[1:]\n",
    "                break\n",
    "    five_class_neg.append(one_class_neg)\n",
    "np.save('./pocketonly_classed_five_neg_c6.npy',five_class_neg)"
   ]
  }
 ],
 "metadata": {
  "kernelspec": {
   "display_name": "pytorch(python3.7)",
   "language": "python",
   "name": "pytorch886"
  },
  "language_info": {
   "codemirror_mode": {
    "name": "ipython",
    "version": 3
   },
   "file_extension": ".py",
   "mimetype": "text/x-python",
   "name": "python",
   "nbconvert_exporter": "python",
   "pygments_lexer": "ipython3",
   "version": "3.7.11"
  }
 },
 "nbformat": 4,
 "nbformat_minor": 5
}
