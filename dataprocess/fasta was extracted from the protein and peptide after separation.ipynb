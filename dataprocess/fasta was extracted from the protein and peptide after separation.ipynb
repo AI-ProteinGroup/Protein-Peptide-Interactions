{
 "cells": [
  {
   "cell_type": "code",
   "execution_count": 1,
   "metadata": {},
   "outputs": [],
   "source": [
    "import os\n",
    "import numpy as np\n",
    "import pandas as pd\n",
    "path = os.listdir(os.getcwd())\n",
    "pep_dictionary={}\n",
    "protein_dictionary={}\n",
    "pdb_name=[]\n",
    "\n",
    "for p in path:\n",
    "    if p==\"peptide\":\n",
    "        clusters_path =p+'/'\n",
    "        with open('./pep_seq.fasta','w') as ff:\n",
    "            for pdb_file in os.listdir(clusters_path):\n",
    "                with open(os.path.join( clusters_path ,pdb_file)) as f:\n",
    "                    lines= f.readline()\n",
    "                    line = lines.strip()\n",
    "                    if len(line)!=0:\n",
    "                        name='>'+pdb_file[:-4]\n",
    "                        ff.write(name)\n",
    "                        ff.write(\"\\n\")\n",
    "                        ff.write(line)\n",
    "                        ff.write(\"\\n\")\n",
    "    if p==\"protein\":\n",
    "        clusters_path =p+'/'\n",
    "        with open('./pro_seq.fasta','w') as ff:\n",
    "            for pdb_file in os.listdir(clusters_path):\n",
    "                with open(os.path.join( clusters_path ,pdb_file)) as f:\n",
    "                    lines= f.readline()\n",
    "                    line = lines.strip()\n",
    "                    if len(line)!=0:\n",
    "                        name='>'+pdb_file[:-4]\n",
    "                        ff.write(name)\n",
    "                        ff.write(\"\\n\")\n",
    "                        ff.write(line)\n",
    "                        ff.write(\"\\n\")\n",
    "\n",
    "\n",
    "                   \n",
    "            \n",
    "            "
   ]
  }
 ],
 "metadata": {
  "kernelspec": {
   "display_name": "Python 3",
   "language": "python",
   "name": "python3"
  },
  "language_info": {
   "codemirror_mode": {
    "name": "ipython",
    "version": 3
   },
   "file_extension": ".py",
   "mimetype": "text/x-python",
   "name": "python",
   "nbconvert_exporter": "python",
   "pygments_lexer": "ipython3",
   "version": "3.7.0"
  }
 },
 "nbformat": 4,
 "nbformat_minor": 4
}
