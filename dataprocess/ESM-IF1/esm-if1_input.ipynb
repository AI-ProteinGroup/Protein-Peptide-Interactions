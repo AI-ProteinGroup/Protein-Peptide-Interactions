{
 "cells": [
  {
   "cell_type": "markdown",
   "metadata": {},
   "source": [
    "# The output characteristics of esm-if1 are obtained. Because the environment does not match, the running environment of colab is given here"
   ]
  },
  {
   "cell_type": "code",
   "execution_count": null,
   "metadata": {},
   "outputs": [],
   "source": [
    "from google.colab import drive\n",
    "drive.mount('/content/gdrive')"
   ]
  },
  {
   "cell_type": "code",
   "execution_count": null,
   "metadata": {},
   "outputs": [],
   "source": [
    "%cd gdrive/MyDrive/esm_if/"
   ]
  },
  {
   "cell_type": "code",
   "execution_count": null,
   "metadata": {},
   "outputs": [],
   "source": [
    "# Colab environment setup\n",
    "\n",
    "# Install the correct version of Pytorch Geometric.\n",
    "import os\n",
    "import numpy as np\n",
    "import torch\n",
    "\n",
    "def format_pytorch_version(version):\n",
    "  return version.split('+')[0]\n",
    "\n",
    "TORCH_version = torch.__version__\n",
    "TORCH = format_pytorch_version(TORCH_version)\n",
    "\n",
    "def format_cuda_version(version):\n",
    "  return 'cu' + version.replace('.', '')\n",
    "\n",
    "CUDA_version = torch.version.cuda\n",
    "CUDA = format_cuda_version(CUDA_version)\n",
    "\n",
    "!pip install -q torch-scatter -f https://data.pyg.org/whl/torch-{TORCH}+{CUDA}.html\n",
    "!pip install -q torch-sparse -f https://data.pyg.org/whl/torch-{TORCH}+{CUDA}.html\n",
    "!pip install -q torch-cluster -f https://data.pyg.org/whl/torch-{TORCH}+{CUDA}.html\n",
    "!pip install -q torch-spline-conv -f https://data.pyg.org/whl/torch-{TORCH}+{CUDA}.html\n",
    "!pip install -q torch-geometric\n",
    "!pip install -q jsonlines\n",
    "# Install esm\n",
    "!pip install -q git+https://github.com/facebookresearch/esm.git\n",
    "\n",
    "# Install biotite\n",
    "!pip install -q biotite"
   ]
  },
  {
   "cell_type": "code",
   "execution_count": null,
   "metadata": {},
   "outputs": [],
   "source": [
    "## Verify that pytorch-geometric is correctly installed\n",
    "import torch_geometric\n",
    "import torch_sparse\n",
    "import jsonlines\n",
    "from torch_geometric.nn import MessagePassing"
   ]
  },
  {
   "cell_type": "code",
   "execution_count": null,
   "metadata": {},
   "outputs": [],
   "source": [
    "import esm\n",
    "model, alphabet = esm.pretrained.esm_if1_gvp4_t16_142M_UR50()\n",
    "model = model.eval()"
   ]
  },
  {
   "cell_type": "code",
   "execution_count": null,
   "metadata": {},
   "outputs": [],
   "source": [
    "all_num = 6918\n",
    "now_num = 0\n",
    "with jsonlines.open('esmif_output.jsonl', mode='a') as writer:    \n",
    "    with open(\"esmif_data_my.jsonl\", \"r+\", encoding=\"utf8\") as f:\n",
    "        for old_data in jsonlines.Reader(f):\n",
    "            now_num=now_num+1\n",
    "            print(\"\\r\", end=\"\")\n",
    "            print(\"Download progress: {}% \".format(now_num/all_num*100), end=\"\")\n",
    "            coords = np.array(old_data['coords'],dtype=np.float32)\n",
    "            feat = esm.inverse_folding.util.get_encoder_output(model, alphabet, coords)\n",
    "            feat = feat.cpu()\n",
    "            feat = feat.detach().numpy()\n",
    "            feat = feat.tolist()\n",
    "            item = {}\n",
    "            item['name'] = old_data['name']\n",
    "            item['features'] = feat\n",
    "            writer.write(item)"
   ]
  },
  {
   "cell_type": "markdown",
   "metadata": {},
   "source": [
    "# After the output is obtained, the final input is obtained using the output file and ProtGVP_input"
   ]
  },
  {
   "cell_type": "code",
   "execution_count": 4,
   "metadata": {},
   "outputs": [],
   "source": [
    "import jsonlines\n",
    "import numpy as np\n",
    "import pandas as pd\n",
    "import os"
   ]
  },
  {
   "cell_type": "code",
   "execution_count": 5,
   "metadata": {},
   "outputs": [],
   "source": [
    "feat_list = {}\n",
    "now_num = 0\n",
    "with open(\"esmif6A_part1.jsonl\", \"r+\", encoding=\"utf8\") as ff:\n",
    "    for old_data in jsonlines.Reader(ff):\n",
    "        feat_list[old_data['name']] = old_data['features']\n",
    "with open(\"esmif6A_part2.jsonl\", \"r+\", encoding=\"utf8\") as ff:\n",
    "    for old_data in jsonlines.Reader(ff):\n",
    "        feat_list[old_data['name']] = old_data['features']\n",
    "with open(\"esmif6A_part3.jsonl\", \"r+\", encoding=\"utf8\") as ff:\n",
    "    for old_data in jsonlines.Reader(ff):\n",
    "        feat_list[old_data['name']] = old_data['features']\n",
    "        \n"
   ]
  },
  {
   "cell_type": "code",
   "execution_count": 6,
   "metadata": {},
   "outputs": [
    {
     "name": "stdout",
     "output_type": "stream",
     "text": [
      "Download progress: 96.21050384286934%    "
     ]
    }
   ],
   "source": [
    "len_feat_list = len(feat_list)       \n",
    "with jsonlines.open('esmif6A_mynet.jsonl', mode='w') as writer:   \n",
    "    with open(\"../gvp_data6A.jsonl\", \"r+\", encoding=\"utf8\") as f:\n",
    "        for gvp_data in jsonlines.Reader(f):\n",
    "            now_num=now_num+1\n",
    "            print(\"\\r\", end=\"\")\n",
    "            print(\"Download progress: {}% \".format(now_num/len_feat_list*100), end=\"\")\n",
    "            name = gvp_data['name']\n",
    "            item = {}\n",
    "            try:\n",
    "                item['pro_feature'] = feat_list[name]\n",
    "            except:\n",
    "                continue\n",
    "            item['name'] = gvp_data['name'] \n",
    "            item['seq'] =  gvp_data['seq']\n",
    "            item['pro_mask'] = gvp_data['pro_mask']\n",
    "            item['pep_feature'] = gvp_data['pep_feature']\n",
    "            item['pep_mask'] = gvp_data['pep_mask']\n",
    "            item['label'] = gvp_data['label']\n",
    "            writer.write(item)"
   ]
  }
 ],
 "metadata": {
  "kernelspec": {
   "display_name": "Python 3",
   "language": "python",
   "name": "python3"
  },
  "language_info": {
   "codemirror_mode": {
    "name": "ipython",
    "version": 3
   },
   "file_extension": ".py",
   "mimetype": "text/x-python",
   "name": "python",
   "nbconvert_exporter": "python",
   "pygments_lexer": "ipython3",
   "version": "3.7.0"
  }
 },
 "nbformat": 4,
 "nbformat_minor": 5
}
