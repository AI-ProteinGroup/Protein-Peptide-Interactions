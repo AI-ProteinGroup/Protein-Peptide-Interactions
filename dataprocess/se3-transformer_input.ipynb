{
 "cells": [
  {
   "cell_type": "markdown",
   "metadata": {},
   "source": [
    "# Use the pocket file and ProtGVP_input to get the final input"
   ]
  },
  {
   "cell_type": "code",
   "execution_count": null,
   "metadata": {},
   "outputs": [],
   "source": [
    "import jsonlines\n",
    "import numpy as np\n",
    "import pandas as pd\n",
    "import os\n",
    "from sklearn.preprocessing import OneHotEncoder "
   ]
  },
  {
   "cell_type": "code",
   "execution_count": null,
   "metadata": {},
   "outputs": [],
   "source": [
    "def get_onehot(path,name,encoder):\n",
    "    res_code = []\n",
    "    res_coors = []\n",
    "    with open(os.path.join(path,name)) as f:\n",
    "        length = 0\n",
    "        line = f.readline().strip()\n",
    "        while line:\n",
    "            lines = line.split(\" \")\n",
    "            res_xyz=[]\n",
    "            length = length + 1\n",
    "            res =np.array([lines[0]])\n",
    "            #print(line[0])\n",
    "            x=float(lines[1])\n",
    "            y=float(lines[2])\n",
    "            z=float(lines[3])\n",
    "#             except:\n",
    "#                 print(line)\n",
    "#                 return  res_code,res_coors\n",
    "            res_xyz.append(x)\n",
    "            res_xyz.append(y)\n",
    "            res_xyz.append(z)\n",
    "\n",
    "            res_code.append(res)\n",
    "            res_coors.append(res_xyz)\n",
    "\n",
    "            line = f.readline().strip()  \n",
    "        #The coordinates define the type and padding\n",
    "        res_coors = np.array(res_coors).reshape(len(res_coors), -1)\n",
    "        #print(len(res_coors))\n",
    "        #The encoding defines the type and padding\n",
    "        res_code = encoder.transform(res_code).toarray().astype(np.float32)\n",
    "    return res_code,res_coors"
   ]
  },
  {
   "cell_type": "code",
   "execution_count": null,
   "metadata": {},
   "outputs": [],
   "source": [
    "\n",
    "now_num =0\n",
    "all_data = 18100\n",
    "max_pro_length = 50\n",
    "gvpdata_file = './gvp_data6A.jsonl'\n",
    "\n",
    "\n",
    "res_names_origin = ['A', 'R', 'N', 'D', 'C', 'Q', 'E', 'G', 'H', 'I', 'L', 'K', 'M', 'F', 'P', 'S', 'T', 'W', 'Y', 'V']\n",
    "res_names = np.array(res_names_origin).reshape(len(res_names_origin), -1)\n",
    "#One Hot\n",
    "enc = OneHotEncoder()\n",
    "enc.fit(res_names)\n",
    "\n",
    "pro_path = '../pocket_acid6A/'\n",
    "with jsonlines.open('se3_mynet_c6.jsonl', mode='w') as writer: \n",
    "    with open(gvpdata_file, \"r+\", encoding=\"utf8\") as f:\n",
    "        for gvp_data in jsonlines.Reader(f):\n",
    "            now_num=now_num+1\n",
    "            print(\"\\r\", end=\"\")\n",
    "            print(\"Download progress: {}% \".format(now_num/all_data*100), end=\"\")\n",
    "            item={}\n",
    "            item['name'] = gvp_data['name'] \n",
    "            \n",
    "            \n",
    "            pro_feature,pro_coords =  get_onehot(pro_path,item['name'],enc)\n",
    "            \n",
    "            pro_length = len(pro_feature)\n",
    "            # n*1024  (np.float32)会损失精度\n",
    "            #pro_codes = np.array(pro_data).reshape(-1, 1024)\n",
    "            pro_code = np.pad(pro_feature,((0,max_pro_length-pro_length),(0,0)),'constant',constant_values=(0,0)).astype(np.float32)\n",
    "            pro_coords_np = np.pad(pro_coords,((0,max_pro_length-pro_length),(0,0)),'constant',constant_values=(0,0)).astype(np.float32)\n",
    "\n",
    "            se3_mask = np.array(gvp_data['pro_mask']).astype(np.bool)\n",
    "\n",
    "            item['pro_feature'] =   pro_code.tolist()\n",
    "            item['pro_coords'] = pro_coords_np.tolist()\n",
    "            \n",
    "            \n",
    "            \n",
    "            item['se3_mask'] = se3_mask.tolist()\n",
    "            item['pro_mask'] = gvp_data['pro_mask']\n",
    "            item['pep_feature'] = gvp_data['pep_feature']\n",
    "            item['pep_mask'] = gvp_data['pep_mask']\n",
    "            item['label'] = gvp_data['label']\n",
    "            writer.write(item)"
   ]
  }
 ],
 "metadata": {
  "kernelspec": {
   "display_name": "Python 3",
   "language": "python",
   "name": "python3"
  },
  "language_info": {
   "codemirror_mode": {
    "name": "ipython",
    "version": 3
   },
   "file_extension": ".py",
   "mimetype": "text/x-python",
   "name": "python",
   "nbconvert_exporter": "python",
   "pygments_lexer": "ipython3",
   "version": "3.7.0"
  }
 },
 "nbformat": 4,
 "nbformat_minor": 5
}
