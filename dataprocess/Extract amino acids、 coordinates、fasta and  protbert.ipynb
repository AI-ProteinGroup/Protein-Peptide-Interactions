{
 "cells": [
  {
   "cell_type": "code",
   "execution_count": null,
   "metadata": {},
   "outputs": [],
   "source": []
  },
  {
   "cell_type": "code",
   "execution_count": 101,
   "metadata": {},
   "outputs": [],
   "source": [
    "import os\n",
    "import numpy as np\n",
    "import pandas as pd"
   ]
  },
  {
   "cell_type": "code",
   "execution_count": 102,
   "metadata": {},
   "outputs": [],
   "source": [
    "#true\n",
    "def save_pocket(save_name,res_list):\n",
    "    with open(save_name,'w') as ff:\n",
    "        for i in res_list:\n",
    "            lines = str(i[0])+' '+ str(i[1])+' '+ str(i[2])+' '+ str(i[3])\n",
    "            ff.write(lines + \"\\n\")\n"
   ]
  },
  {
   "cell_type": "code",
   "execution_count": 103,
   "metadata": {},
   "outputs": [],
   "source": [
    "def name_to_simple(name):\n",
    "    names = {\n",
    "        \"GLY\" : 'G',\n",
    "        \"ALA\" : 'A',\n",
    "        \"VAL\" : 'V',\n",
    "        \"LEU\" : 'L',\n",
    "        \"ILE\" : 'I',\n",
    "        \"PRO\" : 'P',\n",
    "        \"PHE\" : 'F',\n",
    "        \"TYR\" : 'Y',\n",
    "        \"TRP\" : 'W',\n",
    "        \"SER\" : 'S',\n",
    "        \"THR\" : 'T',\n",
    "        \"CYS\" : 'C',\n",
    "        \"MET\" : 'M',\n",
    "        \"ASN\" : 'N',\n",
    "        \"GLN\" : 'Q',\n",
    "        \"ASP\" : 'D',\n",
    "        \"GLU\" : 'E',\n",
    "        \"LYS\" : 'K',\n",
    "        \"ARG\" : 'R',\n",
    "        \"HIS\" : 'H'}\n",
    "    return names.get(name,None)"
   ]
  },
  {
   "cell_type": "code",
   "execution_count": 104,
   "metadata": {},
   "outputs": [],
   "source": [
    "#多链存在链序号相同的问题\n",
    "def get_res_from_pdb(chain):\n",
    "    res_list =[]\n",
    "    for resID in chain.chainIDandresID.unique():\n",
    "        t= chain.chainIDandresID==resID\n",
    "        resName = name_to_simple(chain[t].resName.unique()[0])\n",
    "        x , y , z = [ round(x,3) for x in chain[t][['x','y','z']].astype('float64').apply(lambda x:x.mean())]\n",
    "        res = [resName,x, y,z]\n",
    "        res_list.append(res)\n",
    "    return res_list"
   ]
  },
  {
   "cell_type": "code",
   "execution_count": 105,
   "metadata": {},
   "outputs": [],
   "source": [
    "#true多肽是一个链，蛋白双连or单链是一个链\n",
    "def get_resNum(anno_floder_path,pdb_file):\n",
    "    metas =[]\n",
    "    chain_1_id=[]\n",
    "    with open(os.path.join(anno_floder_path,pdb_file)) as f:\n",
    "        line = f.readline().strip()\n",
    "        while line:\n",
    "            if line[0:4] ==\"ATOM\":\n",
    "                metas.append([line[17:20],line[21:26],line[30:38],line[38:46],line[46:54]])\n",
    "            line = f.readline().strip()\n",
    "    a = np.array([np.array(x) for x in metas])\n",
    "\n",
    "    try:\n",
    "    #To DataFrame\n",
    "        columns = [\"resName\",\"chainIDandresID\",\"x\",\"y\",\"z\"]\n",
    "        data = pd.DataFrame(a,columns=columns)\n",
    "\n",
    "        res_list = get_res_from_pdb(data)\n",
    "    except:\n",
    "        res_list=[]\n",
    "    return res_list "
   ]
  },
  {
   "cell_type": "code",
   "execution_count": 106,
   "metadata": {},
   "outputs": [],
   "source": [
    "#true ，get dir and file\n",
    "path = \"./pocket6A\"\n",
    "for pdb_file in os.listdir(path):\n",
    "    if pdb_file.endswith (\".txt\"):\n",
    "    #if pdb_file == \"3h11_C_B.txt\":\n",
    "        save_name='./pocket_acid6A/'+ os.path.splitext(pdb_file)[0] + '.txt'\n",
    "        if os.path.exists(save_name):\n",
    "            print('already exist')\n",
    "        else:\n",
    "            res_list=get_resNum(path,pdb_file)\n",
    "            save_pocket(save_name,res_list)\n",
    "       "
   ]
  },
  {
   "cell_type": "code",
   "execution_count": 107,
   "metadata": {},
   "outputs": [],
   "source": [
    "##处理pepbdb\n",
    "path = \"./pocket_pepbdb6A\"\n",
    "for pdb_file in os.listdir(path):\n",
    "    if pdb_file.endswith (\".txt\"):\n",
    "        save_name='./pocket_acid6A/'+ os.path.splitext(pdb_file)[0] + '.txt'\n",
    "#         if os.path.exists(save_name):\n",
    "#             print('already exist')\n",
    "#         else:\n",
    "#             print(pdb_file)\n",
    "        res_list=get_resNum(path,pdb_file)\n",
    "        save_pocket(save_name,res_list)"
   ]
  },
  {
   "cell_type": "code",
   "execution_count": 15,
   "metadata": {},
   "outputs": [],
   "source": [
    "##处理pepbdb，首先查看是否有同样的数据,实际无\n",
    "pepbdb_name = os.listdir('./pocket_pepbdb6A/')\n",
    "more_name = os.listdir('./pocket6A/')\n",
    "for i in more_name:\n",
    "    name = i[:-6] + \".txt\"\n",
    "    if name in pepbdb_name:\n",
    "        print(name)"
   ]
  },
  {
   "cell_type": "markdown",
   "metadata": {},
   "source": [
    "# Extract sequence,fasta form"
   ]
  },
  {
   "cell_type": "code",
   "execution_count": 108,
   "metadata": {},
   "outputs": [],
   "source": [
    "import os\n",
    "import numpy as np\n",
    "import pandas as pd"
   ]
  },
  {
   "cell_type": "code",
   "execution_count": 109,
   "metadata": {},
   "outputs": [],
   "source": [
    "def get_sequence(anno_floder_path,pdb_file):\n",
    "    with open(os.path.join(anno_floder_path,pdb_file)) as f:\n",
    "        lines= f.readline()\n",
    "        line = lines.strip()\n",
    "        resList=[]\n",
    "        while line:\n",
    "            resList.append(line[0])\n",
    "            lines= f.readline()\n",
    "            line = lines.strip()\n",
    "        resStr = \"\".join(resList)\n",
    "        return  resStr"
   ]
  },
  {
   "cell_type": "code",
   "execution_count": 110,
   "metadata": {},
   "outputs": [],
   "source": [
    "clusters_path =\"./pocket_acid6A\"\n",
    "with open('./pocket6A_seq.fasta','w') as ff:\n",
    "    for pdb_file in os.listdir(clusters_path):\n",
    "        resStr = get_sequence(clusters_path ,pdb_file)\n",
    "        name='>'+pdb_file\n",
    "        ff.write(name)\n",
    "        ff.write(\"\\n\")\n",
    "        ff.write(resStr)\n",
    "        ff.write(\"\\n\")"
   ]
  },
  {
   "cell_type": "code",
   "execution_count": 40,
   "metadata": {},
   "outputs": [],
   "source": [
    "#多肽\n",
    "def name_to_simple(name):\n",
    "    names = {\n",
    "        \"GLY\" : 'G',\n",
    "        \"ALA\" : 'A',\n",
    "        \"VAL\" : 'V',\n",
    "        \"LEU\" : 'L',\n",
    "        \"ILE\" : 'I',\n",
    "        \"PRO\" : 'P',\n",
    "        \"PHE\" : 'F',\n",
    "        \"TYR\" : 'Y',\n",
    "        \"TRP\" : 'W',\n",
    "        \"SER\" : 'S',\n",
    "        \"THR\" : 'T',\n",
    "        \"CYS\" : 'C',\n",
    "        \"MET\" : 'M',\n",
    "        \"ASN\" : 'N',\n",
    "        \"GLN\" : 'Q',\n",
    "        \"ASP\" : 'D',\n",
    "        \"GLU\" : 'E',\n",
    "        \"LYS\" : 'K',\n",
    "        \"ARG\" : 'R',\n",
    "        \"HIS\" : 'H'}\n",
    "    return names.get(name,None)\n",
    "\n",
    "def get_peptide_seq(chain,pdb_file):\n",
    "    resList =[]\n",
    "    for resID in chain.resID.unique():\n",
    "        t= chain.resID==resID\n",
    "        resName = name_to_simple(chain[t].resName.unique()[0])\n",
    "        resList.append(resName)\n",
    "    try:\n",
    "        resStr = \"\".join(resList)\n",
    "    except:\n",
    "        #print(pdb_file)\n",
    "        resStr = \" \"\n",
    "    return  resStr\n",
    "\n",
    "def get_peptide_resNum(anno_floder_path,pdb_file):\n",
    "    metas =[]\n",
    "    chain_1_id=[]\n",
    "    with open(os.path.join(anno_floder_path,pdb_file)) as f:\n",
    "        line = f.readline().strip()\n",
    "        while line:\n",
    "            if line[0:4] ==\"ATOM\":\n",
    "                metas.append([line[17:20],line[23:26],line[30:38],line[38:46],line[46:54]])\n",
    "            line = f.readline().strip()\n",
    "    a = np.array([np.array(x) for x in metas])\n",
    "\n",
    "\n",
    "    columns = [\"resName\",\"resID\",\"x\",\"y\",\"z\"]\n",
    "    data = pd.DataFrame(a,columns=columns)\n",
    "    return get_peptide_seq(data,pdb_file)"
   ]
  },
  {
   "cell_type": "code",
   "execution_count": 41,
   "metadata": {},
   "outputs": [],
   "source": [
    "clusters_path =[\"./peptide_pepbdb6A\",\"./peptide6A\"]\n",
    "with open('./peptide6A_seq.fasta','w') as ff:\n",
    "    for cluster in clusters_path:\n",
    "        for pdb_file in os.listdir(cluster):\n",
    "            resStr = get_peptide_resNum(cluster ,pdb_file)\n",
    "            if resStr:\n",
    "                name='>'+pdb_file\n",
    "                ff.write(name)\n",
    "                ff.write(\"\\n\")\n",
    "                ff.write(resStr)\n",
    "                ff.write(\"\\n\")"
   ]
  },
  {
   "cell_type": "markdown",
   "metadata": {},
   "source": [
    "# Screen the suitable data for peptides 5-15 and pockets 10-50"
   ]
  },
  {
   "cell_type": "code",
   "execution_count": 111,
   "metadata": {},
   "outputs": [],
   "source": [
    "import os\n",
    "import numpy as np\n",
    "import pandas as pd"
   ]
  },
  {
   "cell_type": "code",
   "execution_count": 113,
   "metadata": {},
   "outputs": [
    {
     "name": "stdout",
     "output_type": "stream",
     "text": [
      "9049\n",
      "9049\n"
     ]
    }
   ],
   "source": [
    "#多肽多一点\n",
    "pocket_name = []\n",
    "peptide_name = []\n",
    "with open('./peptide6A_seq.fasta','r') as f:\n",
    "    while True:\n",
    "        line_name = f.readline().strip()\n",
    "        if not line_name:\n",
    "            break\n",
    "        line = f.readline().strip()\n",
    "        seq_len =len(line)\n",
    "        if seq_len>4 and seq_len<=15:\n",
    "            peptide_name.append(line_name)\n",
    "with open('./pocket6A_seq.fasta','r') as f:\n",
    "    while True:\n",
    "        line_name = f.readline().strip()\n",
    "        if not line_name:\n",
    "            break\n",
    "        line = f.readline().strip()\n",
    "        seq_len = len(line)\n",
    "        if seq_len>9 and seq_len<=50:\n",
    "            pocket_name.append(line_name)\n",
    "            \n",
    "peptide_new = []\n",
    "pocket_new = []\n",
    "for name_i in peptide_name:\n",
    "    if name_i in pocket_name:\n",
    "        peptide_new.append(name_i)\n",
    "for name_j in pocket_name:\n",
    "    if name_j in peptide_new:\n",
    "        pocket_new.append(name_j)\n",
    "print(len(pocket_new))\n",
    "print(len(peptide_new))"
   ]
  },
  {
   "cell_type": "code",
   "execution_count": 114,
   "metadata": {},
   "outputs": [],
   "source": [
    "with open('./peptide6A_seq5_15.fasta','w') as ff:\n",
    "    with open('./peptide6A_seq.fasta','r') as f:\n",
    "        while True:\n",
    "            line_name = f.readline().strip()\n",
    "            if not line_name:\n",
    "                break\n",
    "            sequence = f.readline().strip()\n",
    "            if line_name in peptide_new:\n",
    "                ff.write(line_name)\n",
    "                ff.write(\"\\n\")\n",
    "                ff.write(sequence)\n",
    "                ff.write(\"\\n\")\n",
    "with open('./pocket6A_seq10_50.fasta','w') as ff:\n",
    "    with open('./pocket6A_seq.fasta','r') as f:\n",
    "        while True:\n",
    "            line_name = f.readline().strip()\n",
    "            if not line_name:\n",
    "                break\n",
    "            sequence = f.readline().strip()\n",
    "            if line_name in pocket_new:\n",
    "                ff.write(line_name)\n",
    "                ff.write(\"\\n\")\n",
    "                ff.write(sequence)\n",
    "                ff.write(\"\\n\")"
   ]
  },
  {
   "cell_type": "markdown",
   "metadata": {},
   "source": [
    "# mmseq2 cluster command"
   ]
  },
  {
   "cell_type": "code",
   "execution_count": null,
   "metadata": {},
   "outputs": [],
   "source": [
    "#mmseq2命令\n",
    "#se3 \n",
    "#id5_c7.tsv\n",
    "mmseqs easy-cluster examples/pocket6A_seq10_50.fasta clusterRes tmp  --min-seq-id 0.5 --cluster-mode 2 --cov-mode 1 -c 0.7\n",
    "mmseqs easy-cluster examples/peptide6A_seq5_15.fasta clusterRes tmp  --min-seq-id 0.5 --cluster-mode 2 --cov-mode 1 -c 0.7\n",
    "#id5_c6.tsv\n",
    "mmseqs easy-cluster examples/pocket6A_seq10_50.fasta clusterRes tmp  --min-seq-id 0.5 --cluster-mode 2 --cov-mode 1 -c 0.6\n",
    "mmseqs easy-cluster examples/peptide6A_seq5_15.fasta clusterRes tmp  --min-seq-id 0.5 --cluster-mode 2 --cov-mode 1 -c 0.6"
   ]
  },
  {
   "cell_type": "markdown",
   "metadata": {},
   "source": [
    "# Get protbert data (plus space)"
   ]
  },
  {
   "cell_type": "code",
   "execution_count": 1,
   "metadata": {},
   "outputs": [],
   "source": [
    "import os\n",
    "import numpy as np\n",
    "import pandas as pd"
   ]
  },
  {
   "cell_type": "code",
   "execution_count": 116,
   "metadata": {},
   "outputs": [],
   "source": [
    "with open('./peptide6A_seq5_15_protbert.fasta','w') as ff:\n",
    "    with open('./peptide6A_seq5_15.fasta','r') as f:\n",
    "        while True:\n",
    "            line_name = f.readline().strip()\n",
    "            if not line_name:\n",
    "                break\n",
    "            sequence = f.readline().strip()\n",
    "            ff.write(line_name[1:])\n",
    "            ff.write(\"\\n\")\n",
    "            Str = \" \".join(sequence)\n",
    "            ff.write(Str)\n",
    "            ff.write(\"\\n\")"
   ]
  },
  {
   "cell_type": "code",
   "execution_count": 2,
   "metadata": {},
   "outputs": [],
   "source": [
    "with open('./pocket6A_seq10_50_protbert.fasta','w') as ff:\n",
    "    with open('./pocket6A_seq10_50.fasta','r') as f:\n",
    "        while True:\n",
    "            line_name = f.readline().strip()\n",
    "            if not line_name:\n",
    "                break\n",
    "            sequence = f.readline().strip()\n",
    "            ff.write(line_name[1:])\n",
    "            ff.write(\"\\n\")\n",
    "            Str = \" \".join(sequence)\n",
    "            ff.write(Str)\n",
    "            ff.write(\"\\n\")"
   ]
  }
 ],
 "metadata": {
  "kernelspec": {
   "display_name": "Python 3",
   "language": "python",
   "name": "python3"
  },
  "language_info": {
   "codemirror_mode": {
    "name": "ipython",
    "version": 3
   },
   "file_extension": ".py",
   "mimetype": "text/x-python",
   "name": "python",
   "nbconvert_exporter": "python",
   "pygments_lexer": "ipython3",
   "version": "3.7.0"
  }
 },
 "nbformat": 4,
 "nbformat_minor": 4
}
